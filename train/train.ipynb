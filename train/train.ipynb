{
  "nbformat": 4,
  "nbformat_minor": 0,
  "metadata": {
    "colab": {
      "name": "ADR3.ipynb",
      "provenance": [],
      "collapsed_sections": []
    },
    "kernelspec": {
      "name": "python3",
      "display_name": "Python 3"
    },
    "language_info": {
      "name": "python"
    }
  },
  "cells": [
    {
      "cell_type": "code",
      "metadata": {
        "id": "4PI9ZtUoGAaH"
      },
      "source": [
        "import tensorflow as tf\n",
        "from tensorflow import keras\n",
        "from tensorflow.keras import layers\n",
        "from keras.models import Sequential\n",
        "from tensorflow.keras.optimizers import Adam, SGD\n",
        "from keras.models import load_model\n",
        "import numpy as np\n",
        "import pandas as pd\n",
        "from sklearn import preprocessing\n",
        "from sklearn.model_selection import KFold\n",
        "from sklearn.model_selection import train_test_split\n",
        "import time\n",
        "import matplotlib.pyplot as plt\n",
        "import warnings"
      ],
      "execution_count": null,
      "outputs": []
    },
    {
      "cell_type": "markdown",
      "source": [
        "Model"
      ],
      "metadata": {
        "id": "sxvrFRQAqjq9"
      }
    },
    {
      "cell_type": "code",
      "source": [
        "METRICS = [\n",
        "      keras.metrics.BinaryAccuracy(name='accuracy'),\n",
        "      keras.metrics.Precision(name='precision'),\n",
        "      keras.metrics.Recall(name='recall'),\n",
        "      keras.metrics.AUC(name='AUC',multi_label=True,num_labels=27,num_thresholds=498),\n",
        "      keras.metrics.AUC(name='AUPR',curve='PR',multi_label=True,num_labels=27,num_thresholds=498), # precision-recall curve\n",
        "]\n",
        "def create_model(metrics=METRICS):\n",
        "  model = Sequential([\n",
        "    layers.Flatten(name=\"my_intermediate_layer\"),\n",
        "    layers.Dropout(0.4),  \n",
        "    layers.Dense(1024,name=\"my_feature\"),\n",
        "    layers.ReLU(),\n",
        "    layers.Dropout(0.4),\n",
        "    layers.Dense(27, activation='sigmoid', name=\"my_last_layer\"),\n",
        "    ])\n",
        "  return model"
      ],
      "metadata": {
        "id": "PKk9eqN_qlTu"
      },
      "execution_count": null,
      "outputs": []
    },
    {
      "cell_type": "markdown",
      "source": [
        "Data preprocessing"
      ],
      "metadata": {
        "id": "v8_1Gz4PqnY9"
      }
    },
    {
      "cell_type": "code",
      "metadata": {
        "id": "HS0ahTDtJ29c"
      },
      "source": [
        "#import data\n",
        "y = pd.read_csv('./data/labels(2248).csv')\n",
        "data = np.load('./data/gin_supervised_masking.npy')"
      ],
      "execution_count": null,
      "outputs": []
    },
    {
      "cell_type": "code",
      "metadata": {
        "id": "TOeaRT3wLGJR"
      },
      "source": [
        "#split data\n",
        "k_X_train,k_x_test,k_Y_train,k_y_test= train_test_split(data,y,test_size=0.1,random_state=2021)"
      ],
      "execution_count": null,
      "outputs": []
    },
    {
      "cell_type": "code",
      "metadata": {
        "id": "aOriFdkgLJ1p"
      },
      "source": [
        "from tensorflow.keras.callbacks import ModelCheckpoint, EarlyStopping, ReduceLROnPlateau                     \n",
        "checkpoint = ModelCheckpoint(\"./model/model_context2.hdf5\",\n",
        "                             monitor=\"val_accuracy\",\n",
        "                             mode=\"max\",\n",
        "                             save_best_only = True,\n",
        "                             save_weights_only=False,\n",
        "                             verbose=1)\n",
        "earlystop = EarlyStopping(monitor = 'val_loss', \n",
        "                          min_delta = 0.0001, \n",
        "                          patience = 40,\n",
        "                          verbose = 3,\n",
        "                          mode = 'min',\n",
        "                          restore_best_weights = True)\n",
        "reduce_lr = ReduceLROnPlateau(monitor = 'val_loss',\n",
        "                              factor = 0.2,\n",
        "                              patience = 10,\n",
        "                              verbose = 3,\n",
        "                              min_delta = 0.0001)\n",
        "callbacks = [earlystop,reduce_lr]"
      ],
      "execution_count": null,
      "outputs": []
    },
    {
      "cell_type": "markdown",
      "source": [
        "train"
      ],
      "metadata": {
        "id": "8PBp0L0qq-Ml"
      }
    },
    {
      "cell_type": "code",
      "source": [
        "results=[]\n",
        "time_start = time.time()\n",
        "print(data1.shape)\n",
        "\n",
        "kfolder = KFold(n_splits=10,shuffle=True,random_state=2021)\n",
        "for i, (tra_id,val_id) in enumerate(kfolder.split(k_X_train,k_Y_train)):\n",
        "  print(f\"***********fold-{i+1}***********\")\n",
        "\n",
        "  c_x_train = k_X_train[tra_id]\n",
        "  c_y_train = k_Y_train.iloc[tra_id]\n",
        "  c_x_valid = k_X_train[val_id]\n",
        "  c_y_valid = k_Y_train.iloc[val_id]\n",
        "  model = create_model()\n",
        "  opt = Adam(learning_rate=0.001)\n",
        "  model.compile(loss='binary_crossentropy', optimizer=opt, metrics=METRICS)\n",
        "    \n",
        "  # training\n",
        "  history = model.fit(c_x_train,c_y_train,epochs=300,batch_size=128,\n",
        "                      validation_data=(c_x_valid, c_y_valid.values),callbacks=callbacks,)\n",
        "\n",
        "  baseline_results = model.evaluate(c_x_valid, c_y_valid.values, verbose=0)\n",
        "  for name, value in zip(model.metrics_names, baseline_results):\n",
        "    print(name, ': ', value)\n",
        "  print()\n",
        "\n",
        "  model.save_weights('./model/context/IADRMDL_masking_10fold'+str(i+1)+'.h5')\n",
        "\n",
        "  result = np.array(baseline_results)\n",
        "  results.append(result)\n",
        "\n",
        "\n",
        "\n",
        "print(\"******************************************************************\")\n",
        "\n",
        "print(f\"-Accuracy score_mean:{np.mean(np.array(results)[:,[1]])}\")\n",
        "print(f\"-Accuracy score_mean:{np.std(np.array(results)[:,[1]])}\")\n",
        "\n",
        "print(f\"-Precision score_mean:{np.mean(np.array(results)[:,[2]])}\")\n",
        "print(f\"-Precision score_mean:{np.std(np.array(results)[:,[2]])}\")\n",
        "\n",
        "print(f\"-Recall score_mean:{np.mean(np.array(results)[:,[3]])}\")\n",
        "print(f\"-Recall score_mean:{np.std(np.array(results)[:,[3]])}\")\n",
        "\n",
        "print(f\"-AUC score_mean:{np.mean(np.array(results)[:,[4]])}\")\n",
        "print(f\"-AUC score_mean:{np.std(np.array(results)[:,[4]])}\")\n",
        "\n",
        "print(f\"-AUPR score_mean:{np.mean(np.array(results)[:,[5]])}\")\n",
        "print(f\"-AUPR score_mean:{np.std(np.array(results)[:,[5]])}\")\n",
        "   \n",
        "time_end = time.time()\n",
        "print(f\"total running time: {(time_end - time_start)/60} minites\")"
      ],
      "metadata": {
        "id": "BfSkNP0btlJT"
      },
      "execution_count": null,
      "outputs": []
    },
    {
      "cell_type": "markdown",
      "source": [
        "gin_masking"
      ],
      "metadata": {
        "id": "9ZJNXcj82KCo"
      }
    },
    {
      "cell_type": "code",
      "source": [
        "#load model\n",
        "from keras.models import load_model\n",
        "model_mask = create_model()\n",
        "model_mask.build(k_X_train.shape)\n",
        "model_mask.load_weights('./model/masking/IADRMDL_masking_10fold1.h5')\n",
        "opt = Adam(learning_rate=0.001)\n",
        "model_mask.compile(loss='binary_crossentropy', optimizer=opt, metrics=METRICS)\n",
        "model_mask.fit(k_X_train,k_Y_train,batch_size=128, epochs=400)\n",
        "model_mask.evaluate(k_x_test,k_y_test,return_dict=True)"
      ],
      "metadata": {
        "id": "4Y3CjTz1vXWF"
      },
      "execution_count": null,
      "outputs": []
    },
    {
      "cell_type": "code",
      "source": [
        "y_pre_masking = model_mask.predict(k_x_test)\n",
        "np.save('./model/masking/masking_pre',y_pre_masking)"
      ],
      "metadata": {
        "id": "m9NHcmsY2bHE"
      },
      "execution_count": null,
      "outputs": []
    },
    {
      "cell_type": "markdown",
      "metadata": {
        "id": "KbhK-TQWPDfY"
      },
      "source": [
        "**gin_edge**"
      ]
    },
    {
      "cell_type": "code",
      "source": [
        "#load model\n",
        "from keras.models import load_model\n",
        "model_edge = create_model()\n",
        "model_edge.build(k_X_train.shape)\n",
        "model_edge.load_weights('./model/edeg/IADRMDL_edeg_10fold2.h5')\n",
        "opt = Adam(learning_rate=0.001)\n",
        "model_edge.compile(loss='binary_crossentropy', optimizer=opt, metrics=METRICS)\n",
        "model_edge.fit(k_X_train,k_Y_train,batch_size=128, epochs=300)\n",
        "model_edge.evaluate(k_x_test,k_y_test,return_dict=True)"
      ],
      "metadata": {
        "id": "hkWOgHH_21Qn"
      },
      "execution_count": null,
      "outputs": []
    },
    {
      "cell_type": "code",
      "source": [
        "y_pre_edge = model_edge.predict(k_x_test)\n",
        "np.save('./model/edeg/edeg_pre',y_pre_edge)"
      ],
      "metadata": {
        "id": "z4Upax-z3NI7"
      },
      "execution_count": null,
      "outputs": []
    },
    {
      "cell_type": "markdown",
      "metadata": {
        "id": "tGrSdGOtRZIX"
      },
      "source": [
        "gin_infomax"
      ]
    },
    {
      "cell_type": "code",
      "source": [
        "#load model\n",
        "from keras.models import load_model\n",
        "model_infomax = create_model()\n",
        "model_infomax.build(k_X_train.shape)\n",
        "model_infomax.load_weights('./model/infomax/IADRMDL_infomax_10fold2.h5')\n",
        "opt = Adam(learning_rate=0.001)\n",
        "model_infomax.compile(loss='binary_crossentropy', optimizer=opt, metrics=METRICS)\n",
        "model_infomax.fit(k_X_train,k_Y_train,batch_size=128, epochs=300)\n",
        "model_infomax.evaluate(k_x_test,k_y_test,return_dict=True)\n",
        "y_pre_infomax = model_infomax.predict(k_x_test)\n",
        "np.save('./model/infomax/infomax_pre',y_pre_infomax)"
      ],
      "metadata": {
        "id": "Eh8Yryeq3oaC"
      },
      "execution_count": null,
      "outputs": []
    },
    {
      "cell_type": "markdown",
      "metadata": {
        "id": "Jn6tmq0-T8n_"
      },
      "source": [
        "gin_context"
      ]
    },
    {
      "cell_type": "code",
      "source": [
        "#load model\n",
        "from keras.models import load_model\n",
        "model_context = create_model()\n",
        "model_context.build(k_X_train.shape)\n",
        "model_context.load_weights('./model/context/IADRMDL_context_10fold1.h5')\n",
        "opt = Adam(learning_rate=0.001)\n",
        "model_context.compile(loss='binary_crossentropy', optimizer=opt, metrics=METRICS)\n",
        "model_context.fit(k_X_train,k_Y_train,batch_size=128, epochs=300)\n",
        "model_context.evaluate(k_x_test,k_y_test,return_dict=True)\n",
        "y_pre_context = model_context.predict(k_x_test)\n",
        "np.save('./model/context/context_pre',y_pre_context)"
      ],
      "metadata": {
        "id": "1XQETSX03tKx"
      },
      "execution_count": null,
      "outputs": []
    },
    {
      "cell_type": "markdown",
      "source": [
        "attfp"
      ],
      "metadata": {
        "id": "vHs7bAgA3xJC"
      }
    },
    {
      "cell_type": "code",
      "source": [
        "#load model\n",
        "from keras.models import load_model\n",
        "model_attfp = create_model()\n",
        "model_attfp.build(k_X_train.shape)\n",
        "model_attfp.load_weights('./model/attfp/IADRMDL_attfp_10fold1.h5')\n",
        "opt = Adam(learning_rate=0.001)\n",
        "model_attfp.compile(loss='binary_crossentropy', optimizer=opt, metrics=METRICS)\n",
        "model_attfp.fit(k_X_train,k_Y_train,batch_size=128, epochs=300)\n",
        "model_attfp.evaluate(k_x_test,k_y_test,return_dict=True)\n",
        "y_pre_attfp = model_attfp.predict(k_x_test)\n",
        "np.save('./model/attfp/attfp_pre',y_pre_attfp)"
      ],
      "metadata": {
        "id": "DFbTvwAA3zqJ"
      },
      "execution_count": null,
      "outputs": []
    },
    {
      "cell_type": "markdown",
      "source": [
        "fp"
      ],
      "metadata": {
        "id": "GOCIOWCE30Ra"
      }
    },
    {
      "cell_type": "code",
      "source": [
        "#load model\n",
        "from keras.models import load_model\n",
        "model_fp = create_model()\n",
        "model_fp.build(k_X_train.shape)\n",
        "model_fp.load_weights('./model/fp/IADRMDL_fp_10fold1.h5')\n",
        "opt = Adam(learning_rate=0.001)\n",
        "model_fp.compile(loss='binary_crossentropy', optimizer=opt, metrics=METRICS)\n",
        "model_fp.fit(k_X_train,k_Y_train,batch_size=128, epochs=300)\n",
        "model_fp.evaluate(k_x_test,k_y_test,return_dict=True)\n",
        "y_pre_fp = model_attfp.predict(k_x_test)\n",
        "np.save('./model/fp/fp_pre',y_pre_fp)"
      ],
      "metadata": {
        "id": "KJBhvAiw31zB"
      },
      "execution_count": null,
      "outputs": []
    },
    {
      "cell_type": "markdown",
      "metadata": {
        "id": "MfQYXBUXBdG3"
      },
      "source": [
        "sub-models"
      ]
    },
    {
      "cell_type": "code",
      "metadata": {
        "id": "llx7R7KPBida"
      },
      "source": [
        "m1 = keras.metrics.BinaryAccuracy(name='accuracy',threshold=0.5)\n",
        "m2 = keras.metrics.Precision(name='precision')\n",
        "m3 = keras.metrics.Recall(name='recall')\n",
        "m4 = keras.metrics.AUC(name='AUC',multi_label=True,num_labels=27,num_thresholds=498)\n",
        "m5 = keras.metrics.AUC(name='AUPR',curve='PR',multi_label=True,num_labels=27,num_thresholds=498)"
      ],
      "execution_count": null,
      "outputs": []
    },
    {
      "cell_type": "code",
      "source": [
        "#IADRDDI\n",
        "y_pre1 = np.load('./model/masking/masking_pre.npy')\n",
        "y_pre2 = np.load('./model/edeg/edeg_pre.npy')\n",
        "y_pre3 = np.load('./model/info/info_pre.npy')\n",
        "y_pre4 = np.load('./model/context/context_pre.npy')\n",
        "y_pre5 = np.load('./model/fp/fp_pre.npy')\n",
        "y_pre6 = np.load('./model/attfp/attfp_pre.npy')\n",
        "y_pre = (y_pre1+y_pre2+y_pre4+y_pre5+y_pre6)/5"
      ],
      "metadata": {
        "id": "jUKSptNosE0X"
      },
      "execution_count": null,
      "outputs": []
    }
  ]
}